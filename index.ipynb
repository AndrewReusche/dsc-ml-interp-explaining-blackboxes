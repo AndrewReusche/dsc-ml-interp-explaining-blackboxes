{
 "cells": [
  {
   "cell_type": "markdown",
   "metadata": {},
   "source": [
    "# Explaining Black-Boxes: Neural Networks"
   ]
  },
  {
   "cell_type": "markdown",
   "metadata": {},
   "source": [
    "## Introduction\n",
    "\n",
    "Neural networks are often considered to be complex and difficult to interpret due to their highly non-linear nature. However, with the right tools and techniques, it is possible to make neural networks more interpretable. One approach is to use techniques such as visualization of the network's weights, activations, and gradients, which can help to understand the relationships between inputs and outputs. Additionally, there are also interpretable neural network architectures, such as decision trees or rule-based systems, that are designed to be more easily interpretable than traditional neural networks.\n",
    "\n",
    "In this lesson, we will discuss some of the techniques available to interpret or explain neural networks. Then, we will build a neural network together with scikit-learn and explain the results using the techniques that we learned. You can use this code as a template in the future to create neural networks and output useful reports to explain your results."
   ]
  },
  {
   "cell_type": "markdown",
   "metadata": {},
   "source": [
    "## Objectives\n",
    "\n",
    "You will be able to:\n",
    "\n",
    "* Describe methods for interpreting/explaining neural networks\n",
    "* Build and interpret a neural network with scikit-learn"
   ]
  },
  {
   "cell_type": "markdown",
   "metadata": {},
   "source": [
    "## Wisconsin Breast Cancer Dataset\n",
    "Since neural networks have many applications in the medical field, a good dataset to explore is the Wisconsin Breast Cancer Dataset. This is a dataset with 569 instances, 30 features, and 2 classes. In this exercise, we will use scikit-learn to practice building a neural network that is used to classify whether a breast cancer tumor is benign or malignant. \n",
    "\n",
    "Researchers and physicians rely on neural networks to help them diagnose malignant tumors due to the high degree of accuracy they offer. However, medical professionals need to have a detailed understanding of how the model arrived at its conclusions. After we build our neural network, we will review all of the explanatory metrics we can use to support our model's results.\n",
    "\n",
    "\n",
    "## Implement a Neural Network with scikit-learn\n",
    "Follow the steps below to build a simple neural network with scikit-learn! Remember, that even as we build out our model, we will be looking for valuable information that we can use to better explain our results."
   ]
  },
  {
   "cell_type": "markdown",
   "metadata": {},
   "source": [
    "### 1. Import Data\n",
    "In the cell below, we use an `from <library>.<module> import <object>` syntax to import the necessary function to load our data. Then, we assign it to the `data` variable. "
   ]
  },
  {
   "cell_type": "code",
   "execution_count": 1,
   "metadata": {},
   "outputs": [],
   "source": [
    "from sklearn.datasets import load_breast_cancer\n",
    "\n",
    "# load the dataset\n",
    "data = load_breast_cancer()"
   ]
  },
  {
   "cell_type": "markdown",
   "metadata": {},
   "source": [
    "### 2. Basic EDA"
   ]
  },
  {
   "cell_type": "code",
   "execution_count": 2,
   "metadata": {},
   "outputs": [
    {
     "name": "stdout",
     "output_type": "stream",
     "text": [
      ".. _breast_cancer_dataset:\n",
      "\n",
      "Breast cancer wisconsin (diagnostic) dataset\n",
      "--------------------------------------------\n",
      "\n",
      "**Data Set Characteristics:**\n",
      "\n",
      "    :Number of Instances: 569\n",
      "\n",
      "    :Number of Attributes: 30 numeric, predictive attributes and the class\n",
      "\n",
      "    :Attribute Information:\n",
      "        - radius (mean of distances from center to points on the perimeter)\n",
      "        - texture (standard deviation of gray-scale values)\n",
      "        - perimeter\n",
      "        - area\n",
      "        - smoothness (local variation in radius lengths)\n",
      "        - compactness (perimeter^2 / area - 1.0)\n",
      "        - concavity (severity of concave portions of the contour)\n",
      "        - concave points (number of concave portions of the contour)\n",
      "        - symmetry\n",
      "        - fractal dimension (\"coastline approximation\" - 1)\n",
      "\n",
      "        The mean, standard error, and \"worst\" or largest (mean of the three\n",
      "        worst/largest values) of these features were computed for each image,\n",
      "        resulting in 30 features.  For instance, field 0 is Mean Radius, field\n",
      "        10 is Radius SE, field 20 is Worst Radius.\n",
      "\n",
      "        - class:\n",
      "                - WDBC-Malignant\n",
      "                - WDBC-Benign\n",
      "\n",
      "    :Summary Statistics:\n",
      "\n",
      "    ===================================== ====== ======\n",
      "                                           Min    Max\n",
      "    ===================================== ====== ======\n",
      "    radius (mean):                        6.981  28.11\n",
      "    texture (mean):                       9.71   39.28\n",
      "    perimeter (mean):                     43.79  188.5\n",
      "    area (mean):                          143.5  2501.0\n",
      "    smoothness (mean):                    0.053  0.163\n",
      "    compactness (mean):                   0.019  0.345\n",
      "    concavity (mean):                     0.0    0.427\n",
      "    concave points (mean):                0.0    0.201\n",
      "    symmetry (mean):                      0.106  0.304\n",
      "    fractal dimension (mean):             0.05   0.097\n",
      "    radius (standard error):              0.112  2.873\n",
      "    texture (standard error):             0.36   4.885\n",
      "    perimeter (standard error):           0.757  21.98\n",
      "    area (standard error):                6.802  542.2\n",
      "    smoothness (standard error):          0.002  0.031\n",
      "    compactness (standard error):         0.002  0.135\n",
      "    concavity (standard error):           0.0    0.396\n",
      "    concave points (standard error):      0.0    0.053\n",
      "    symmetry (standard error):            0.008  0.079\n",
      "    fractal dimension (standard error):   0.001  0.03\n",
      "    radius (worst):                       7.93   36.04\n",
      "    texture (worst):                      12.02  49.54\n",
      "    perimeter (worst):                    50.41  251.2\n",
      "    area (worst):                         185.2  4254.0\n",
      "    smoothness (worst):                   0.071  0.223\n",
      "    compactness (worst):                  0.027  1.058\n",
      "    concavity (worst):                    0.0    1.252\n",
      "    concave points (worst):               0.0    0.291\n",
      "    symmetry (worst):                     0.156  0.664\n",
      "    fractal dimension (worst):            0.055  0.208\n",
      "    ===================================== ====== ======\n",
      "\n",
      "    :Missing Attribute Values: None\n",
      "\n",
      "    :Class Distribution: 212 - Malignant, 357 - Benign\n",
      "\n",
      "    :Creator:  Dr. William H. Wolberg, W. Nick Street, Olvi L. Mangasarian\n",
      "\n",
      "    :Donor: Nick Street\n",
      "\n",
      "    :Date: November, 1995\n",
      "\n",
      "This is a copy of UCI ML Breast Cancer Wisconsin (Diagnostic) datasets.\n",
      "https://goo.gl/U2Uwz2\n",
      "\n",
      "Features are computed from a digitized image of a fine needle\n",
      "aspirate (FNA) of a breast mass.  They describe\n",
      "characteristics of the cell nuclei present in the image.\n",
      "\n",
      "Separating plane described above was obtained using\n",
      "Multisurface Method-Tree (MSM-T) [K. P. Bennett, \"Decision Tree\n",
      "Construction Via Linear Programming.\" Proceedings of the 4th\n",
      "Midwest Artificial Intelligence and Cognitive Science Society,\n",
      "pp. 97-101, 1992], a classification method which uses linear\n",
      "programming to construct a decision tree.  Relevant features\n",
      "were selected using an exhaustive search in the space of 1-4\n",
      "features and 1-3 separating planes.\n",
      "\n",
      "The actual linear program used to obtain the separating plane\n",
      "in the 3-dimensional space is that described in:\n",
      "[K. P. Bennett and O. L. Mangasarian: \"Robust Linear\n",
      "Programming Discrimination of Two Linearly Inseparable Sets\",\n",
      "Optimization Methods and Software 1, 1992, 23-34].\n",
      "\n",
      "This database is also available through the UW CS ftp server:\n",
      "\n",
      "ftp ftp.cs.wisc.edu\n",
      "cd math-prog/cpo-dataset/machine-learn/WDBC/\n",
      "\n",
      ".. topic:: References\n",
      "\n",
      "   - W.N. Street, W.H. Wolberg and O.L. Mangasarian. Nuclear feature extraction \n",
      "     for breast tumor diagnosis. IS&T/SPIE 1993 International Symposium on \n",
      "     Electronic Imaging: Science and Technology, volume 1905, pages 861-870,\n",
      "     San Jose, CA, 1993.\n",
      "   - O.L. Mangasarian, W.N. Street and W.H. Wolberg. Breast cancer diagnosis and \n",
      "     prognosis via linear programming. Operations Research, 43(4), pages 570-577, \n",
      "     July-August 1995.\n",
      "   - W.H. Wolberg, W.N. Street, and O.L. Mangasarian. Machine learning techniques\n",
      "     to diagnose breast cancer from fine-needle aspirates. Cancer Letters 77 (1994) \n",
      "     163-171.\n"
     ]
    }
   ],
   "source": [
    "# print the dataset description\n",
    "print(data.DESCR)"
   ]
  },
  {
   "cell_type": "markdown",
   "metadata": {},
   "source": [
    "In the data description, you will notice that there is a __Dataset Characteristics__ section that provides valuable metadata that will help you to assess the data quality and interpret the features. \n",
    "\n",
    "#### Examining Data Quality\n",
    "Since this is an example dataset that is used for teaching, it is probably not used to train neural networks in contemporary medical settings, so there are certain things we will excuse in this exercise.\n",
    "\n",
    "* __Size__ - Due to limitations on compute resources outside of professional research settings, this dataset is intentionally much smaller than what would be used in real medical research.\n",
    "\n",
    "* __Age__ - This dataset is from 1995, which would generally be a bit too old for contemporary research on this topic.\n",
    "\n",
    "On the other hand, __there are things about this dataset that are _unusually_ good, such as a lack of missing values__. In a research setting, careful data preparation decisions would need to be made, and those decisions would need to be part of your explanation. "
   ]
  },
  {
   "cell_type": "markdown",
   "metadata": {},
   "source": [
    "#### Examining Features\n",
    "Feature selection is an important part of model interpretation. By including certain features in a model, researchers are have already indicated that these features are important. While selection methods might vary, the presence or absence of features already provides many clues to interpretation. \n",
    "\n",
    "Our __target__ feature has two classes, malignant or benign. \n",
    "\n",
    "You may have noticed that ten attributes of the cell nuclei present in the image are described. Each of these attributes are represented as three calculated features, described below:\n",
    "\n",
    "> \"The mean, standard error, and \"worst\" or largest (mean of the three\n",
    "worst/largest values) of these features were computed for each image,\n",
    "resulting in 30 features.  For instance, field 0 is Mean Radius, field\n",
    "10 is Radius SE, field 20 is Worst Radius.\"\n",
    "\n",
    "This means that, for example, the __radius__ attribute translates into the features __Radius (Mean)__, __Radius (SE Mean)__, and __Radius (Worst)__. __Worst__ describes the mean radius of the three largest cell nuclei. \n",
    "\n",
    "##### So what can we infer?\n",
    "Based on the description of the features, and what we know about the computed features, we can draw a couple of inferences about the components of the decision mechanism our model might employ, specifically:\n",
    "1. The attributes selected by researchers to be included in the data have been determined to be relevant in diagnosing malignancy mammograms.\n",
    "2. Since \"worst\" is used to describe the largest cell nuclei in the observed sample, there is some relationship between malignancy and cell nuclei size.\n",
    "\n",
    "For ease of use, we provide a list of the feature names below."
   ]
  },
  {
   "cell_type": "code",
   "execution_count": 3,
   "metadata": {},
   "outputs": [],
   "source": [
    "feature_names = [\"id\", \"radius_mean\", \"texture_mean\", \"perimeter_mean\", \n",
    "                 \"area_mean\", \"smoothness_mean\", \"compactness_mean\", \"concavity_mean\", \n",
    "                 \"concave points_mean\", \"symmetry_mean\", \"fractal_dimension_mean\", \n",
    "                 \"radius_se\", \"texture_se\", \"perimeter_se\", \"area_se\", \"smoothness_se\", \n",
    "                 \"compactness_se\", \"concavity_se\", \"concave points_se\", \"symmetry_se\", \n",
    "                 \"fractal_dimension_se\", \"radius_worst\", \"texture_worst\", \"perimeter_worst\", \n",
    "                 \"area_worst\", \"smoothness_worst\", \"compactness_worst\", \"concavity_worst\", \n",
    "                 \"concave points_worst\", \"symmetry_worst\", \"fractal_dimension_worst\"]"
   ]
  },
  {
   "cell_type": "markdown",
   "metadata": {},
   "source": [
    "#### Detecting Class Imbalance\n",
    "Next, we will assign the data and the targets to X, y variables. Then, we will examine the distribution of our target class. "
   ]
  },
  {
   "cell_type": "code",
   "execution_count": 4,
   "metadata": {},
   "outputs": [],
   "source": [
    "# assign the feature matrix and target vector\n",
    "X = data.data\n",
    "y = data.target"
   ]
  },
  {
   "cell_type": "code",
   "execution_count": 5,
   "metadata": {},
   "outputs": [
    {
     "name": "stdout",
     "output_type": "stream",
     "text": [
      "1    357\n",
      "0    212\n",
      "dtype: int64\n"
     ]
    }
   ],
   "source": [
    "import pandas as pd\n",
    "\n",
    "y_data = pd.Series(y)\n",
    "print(y_data.value_counts())"
   ]
  },
  {
   "cell_type": "markdown",
   "metadata": {},
   "source": [
    "It appears from the output above that our target class is over-represented in this data. This will be something to consider as we interpret our results."
   ]
  },
  {
   "cell_type": "markdown",
   "metadata": {},
   "source": [
    "### 3. Build a Neural Network\n",
    "Next, we will use the `scikit-learn` neural network library and import the `MLPClassifier`.\n",
    "\n",
    "The MLP Classifier in scikit-learn is implemented as a multi-layer feedforward neural network with a backpropagation algorithm for training the network. Before we continue, let's briefly define what that means:\n",
    "\n",
    "* In a feedforward neural network, each neuron in the network receives input from the neurons in the previous layer, performs a computation, and passes the result to the neurons in the next layer.\n",
    "* The main goal of training a feedforward neural network is to adjust the weights of the connections between the neurons so that the network can accurately map the input to the desired output. \n",
    "* This is typically done using a supervised learning algorithm, such as backpropagation, which iteratively updates the weights of the network to minimize the error between the network's predicted output and the true output.\n",
    "\n",
    "The MLPClassifier function has several parameters that can be used to control the behavior of the algorithm, such as the number of hidden layers, the number of neurons in each layer, the activation function, and the learning rate.\n",
    "\n",
    "#### Tuning Parameters\n",
    "Below, we discuss a few parameters that we will tune to create our model.\n",
    "\n",
    "For a more detailed explanation of all the possible parameters and how you can tune them, take a look at the [scikit-learn documentation] (https://scikit-learn.org/stable/modules/generated/sklearn.neural_network.MLPClassifier.html).\n",
    "\n",
    "\n",
    "`__hidden_layer_sizes__`: This parameter controls the number of neurons in each hidden layer and the number of hidden layers in the network. It is represented as a tuple, where each element of the tuple represents the number of neurons in a hidden layer. For example, (100, 100) would create a network with two hidden layers, each with 100 neurons. We are going to use a small number of nodes for demonstration purposes.\n",
    "\n",
    "`max_iter`: This parameter controls the maximum number of iterations that the solver will run before stopping.\n",
    "\n",
    "`solver`: This parameter controls the algorithm used to train the network. The most commonly used solvers are we are using `sgd` or __Stochastic Gradient Descent__ beca"
   ]
  },
  {
   "cell_type": "code",
   "execution_count": 6,
   "metadata": {},
   "outputs": [],
   "source": [
    "from sklearn.neural_network import MLPClassifier\n",
    "\n",
    "# create an instance of the classifier\n",
    "clf = MLPClassifier(hidden_layer_sizes=(10, 10, 10), max_iter=1000, \n",
    "                    solver='sgd', random_state=1, learning_rate_init=.1)"
   ]
  },
  {
   "cell_type": "markdown",
   "metadata": {},
   "source": [
    "#### Train, Test, Split\n",
    "Next, let's use the `model_selection` module to creating training and test sets for our model."
   ]
  },
  {
   "cell_type": "code",
   "execution_count": 7,
   "metadata": {},
   "outputs": [],
   "source": [
    "from sklearn.model_selection import train_test_split\n",
    "\n",
    "# split your data\n",
    "X_train, X_test, y_train, y_test = train_test_split(X, y, test_size=0.2, random_state=42)\n",
    "\n",
    "# train the classifier on the train dataset\n",
    "clf.fit(X_train, y_train)\n",
    "\n",
    "# predict labels for test dataset\n",
    "y_pred = clf.predict(X_test)"
   ]
  },
  {
   "cell_type": "markdown",
   "metadata": {},
   "source": [
    "Great! Now, let's review and explain the results."
   ]
  },
  {
   "cell_type": "markdown",
   "metadata": {},
   "source": [
    "## Interpreting/Explaining Neural Networks\n",
    "\n",
    "There are several ways to interpret and explain the results of a neural network. These methods can provide insight into how the neural network is making predictions and how different features are impacting those predictions, which can be useful for understanding the model's behavior and potentially improving it. In the section below, we will demonstrate how to to apply these techniques with Python and scikit-learn.\n",
    "\n",
    "When interpreting machine learning models, there are methods for __local__ and __global__ interpretation. Global explanations attempt to explain the behavior of the entire model and generalize about how the model decides. Local explanations explain the results of a single observations. First, we will explain some global interpretation methods. Then, we will explain some local interpretation methods. "
   ]
  },
  {
   "cell_type": "markdown",
   "metadata": {},
   "source": [
    "### Global Explanations\n",
    "\n",
    "#### Model Evaluation Metrics\n",
    "You can use various evaluation metrics such as accuracy, precision, recall, and F1-score to evaluate the performance of the model on the test dataset. "
   ]
  },
  {
   "cell_type": "code",
   "execution_count": 8,
   "metadata": {},
   "outputs": [
    {
     "name": "stdout",
     "output_type": "stream",
     "text": [
      "Accuracy: 62.28%\n",
      "Precision: 62.28%\n",
      "Recall: 100.00%\n",
      "F1 Score: 76.76%\n"
     ]
    }
   ],
   "source": [
    "from sklearn.metrics import accuracy_score, precision_score, recall_score, f1_score\n",
    "\n",
    "# Compute accuracy\n",
    "acc = accuracy_score(y_test, y_pred)\n",
    "print(\"Accuracy: {:.2f}%\".format(acc * 100))\n",
    "\n",
    "# Compute precision\n",
    "prec = precision_score(y_test, y_pred)\n",
    "print(\"Precision: {:.2f}%\".format(prec * 100))\n",
    "\n",
    "# Compute recall\n",
    "rec = recall_score(y_test, y_pred)\n",
    "print(\"Recall: {:.2f}%\".format(rec * 100))\n",
    "\n",
    "# Compute F1 score\n",
    "f1 = f1_score(y_test, y_pred)\n",
    "print(\"F1 Score: {:.2f}%\".format(f1 * 100))"
   ]
  },
  {
   "cell_type": "markdown",
   "metadata": {},
   "source": [
    "While the accuracy of our model is low, we have already learned a lot about how the model is classifying the observations. A recall of 100% means that __every negative prediction is correct__. "
   ]
  },
  {
   "cell_type": "markdown",
   "metadata": {},
   "source": [
    "#### Confusion Matrix\n",
    "You can use a confusion matrix to visualize the performance of the model in terms of true positives, true negatives, false positives, and false negatives."
   ]
  },
  {
   "cell_type": "code",
   "execution_count": 9,
   "metadata": {},
   "outputs": [
    {
     "data": {
      "image/png": "[encoded data removed]",
      "text/plain": [
       "<Figure size 432x288 with 2 Axes>"
      ]
     },
     "metadata": {
      "needs_background": "light"
     },
     "output_type": "display_data"
    }
   ],
   "source": [
    "import seaborn as sns\n",
    "from sklearn.metrics import confusion_matrix\n",
    "import matplotlib.pyplot as plt\n",
    "\n",
    "# Compute the confusion matrix\n",
    "cm = confusion_matrix(y_test, y_pred)\n",
    "\n",
    "# Visualize the confusion matrix\n",
    "sns.heatmap(cm, annot=True, cmap=\"YlGnBu\", fmt='g')\n",
    "plt.xlabel('Predicted labels')\n",
    "plt.ylabel('True labels')\n",
    "plt.title('Confusion Matrix')\n",
    "plt.show()"
   ]
  },
  {
   "cell_type": "markdown",
   "metadata": {},
   "source": [
    "##### So what can we infer?\n",
    "The model is \"cautious\" in determining that an observation is __benign__. The model is more likely to misclassify a negative result as positive. "
   ]
  },
  {
   "cell_type": "markdown",
   "metadata": {},
   "source": [
    "### Local Explanations"
   ]
  },
  {
   "cell_type": "markdown",
   "metadata": {},
   "source": [
    "#### LIME\n",
    "You can use __LIME (Local Interpretable Model-Agnostic Explanations)__ to generate explanations for the predictions of the model by approximating the model locally around one instance (row) and explaining the predictions based on that local approximation. Let's run the code and examine the outputs so we can talk about what that means.\n",
    "\n",
    "Since LIME is model agnostic, you can use it with any machine learning model. However, you will want to choose an evaluation metric based on the type of metrics available to that particular model. We chose `predict_proba` as our evaluation metric because it is a useful way to evaluate features when using neural networks. It can give you more information about a model's predictions than the simple `predict` method. This is because it helps us to understand the level of certainty of a model's predictions for each feature by predicting the probability that the row in question will belong to either class."
   ]
  },
  {
   "cell_type": "code",
   "execution_count": 10,
   "metadata": {},
   "outputs": [],
   "source": [
    "# !pip install lime"
   ]
  },
  {
   "cell_type": "code",
   "execution_count": 11,
   "metadata": {
    "code_folding": []
   },
   "outputs": [],
   "source": [
    "from lime import lime_tabular\n",
    "\n",
    "explainer = lime_tabular.LimeTabularExplainer(X_train, feature_names=feature_names)\n",
    "\n",
    "# Choose a sample to explain\n",
    "sample = X_test[0]\n",
    "\n",
    "# Get the explanation for the sample\n",
    "exp = explainer.explain_instance(sample, clf.predict_proba, num_features=5)\n",
    "\n",
    "# # Print the explanation\n",
    "# exp_data = exp.as_list()\n",
    "\n",
    "# exp_df = pd.DataFrame(exp_data)"
   ]
  },
  {
   "cell_type": "markdown",
   "metadata": {},
   "source": [
    "Let's discuss this code block and what it is doing.\n",
    "\n",
    "1. In the code above, we use the `lime_tabular.LimeTabularExplainer()` class to create a LIME explainer for the training data. You can pass the number of feature you want to see the explanation for using `num_features` parameter.\n",
    "\n",
    "2. Next, we choose a sample from the test set (`X_test[0]`) and use the explain_instance() method to obtain an explanation for the prediction of the sample. \n",
    "\n",
    "3. Finally, we use the as_list() method to print the explanation as a list of feature-value pairs.\n",
    "\n",
    "__You can also visualize the explanation:__\n",
    "\n",
    "\n",
    "<div>\n",
    "<table><tr><td>\n",
    "<img src=\"https://curriculum-content.s3.amazonaws.com/data-science/v3/p4/w2-ml-interp/ml-interp-4-2.png\" \n",
    "    alt=\"A LIME explainer generated by the Python LIME module. Depicts a chart that displays the probability that a specific row in the data belonged to either class, based on predicted probabilities.\" height=350/>\n",
    "</td></tr></table>\n",
    "</div>"
   ]
  },
  {
   "cell_type": "markdown",
   "metadata": {},
   "source": [
    "__If you are running this notebook locally, and want to generate the visualization for yourself, uncomment and run the code cell below.__"
   ]
  },
  {
   "cell_type": "code",
   "execution_count": 12,
   "metadata": {},
   "outputs": [],
   "source": [
    "# exp.show_in_notebook(show_table=True, show_all=False)"
   ]
  },
  {
   "cell_type": "markdown",
   "metadata": {},
   "source": [
    "So what does this graph suggest? Let's examine the pieces from left to right. \n",
    "\n",
    "1. In the top left, the prediction probabilities for the observation (which is the first row in the data frame or 0) are displayed. In this case, the probability that this observation is indeed malignant is 0.62, while the probability that it is benign is only 0.38.\n",
    "\n",
    "2. In the center, the bar divides features into two columns: `0`, or features that would typically be associated with benign, and `1`, or features that would typically be associated with malignant. Here, we see that the only feature in `1` is `fractal_dimension mean_` which is greater than 0.32 but less than 0.47. In this row, the true value was 0.40.\n",
    "\n",
    "3. On the right, there is another table with columns named `Feature` and `Value`. The `fractal_dimension_mean` feature is highlighted in orange, with the true value displayed next to it. \n",
    "\n",
    "##### So what can we infer?\n",
    "The model is _mildly_ confident that this observation is malignant, because of the `fractal_dimension_feature`. However, because the observation has values for other features that are typically associated with benign, the confidence of the model is somewhat diminished.\n",
    "\n",
    "Let's look at another visualization that further explains these results:"
   ]
  },
  {
   "cell_type": "code",
   "execution_count": 13,
   "metadata": {},
   "outputs": [
    {
     "data": {
      "image/png": "[encoded data removed]",
      "text/plain": [
       "<Figure size 432x288 with 1 Axes>"
      ]
     },
     "metadata": {
      "needs_background": "light"
     },
     "output_type": "display_data"
    }
   ],
   "source": [
    "import matplotlib as pyplot\n",
    "fig = exp.as_pyplot_figure(label=1)"
   ]
  },
  {
   "cell_type": "markdown",
   "metadata": {},
   "source": [
    "##### So what can we infer?\n",
    "In the chart above, we see that `fractal_dimension_mean` was the main contributor to the classification of malignant. and that `perimeter_worst` was the main contributor to uncertainty about the classification. \n",
    "\n",
    "Below, we express the same values as a table. "
   ]
  },
  {
   "cell_type": "code",
   "execution_count": 14,
   "metadata": {},
   "outputs": [
    {
     "data": {
      "text/html": [
       "<div>\n",
       "<style scoped>\n",
       "    .dataframe tbody tr th:only-of-type {\n",
       "        vertical-align: middle;\n",
       "    }\n",
       "\n",
       "    .dataframe tbody tr th {\n",
       "        vertical-align: top;\n",
       "    }\n",
       "\n",
       "    .dataframe thead th {\n",
       "        text-align: right;\n",
       "    }\n",
       "</style>\n",
       "<table border=\"1\" class=\"dataframe\">\n",
       "  <thead>\n",
       "    <tr style=\"text-align: right;\">\n",
       "      <th></th>\n",
       "      <th>Feature</th>\n",
       "      <th>Contribution</th>\n",
       "    </tr>\n",
       "  </thead>\n",
       "  <tbody>\n",
       "    <tr>\n",
       "      <th>0</th>\n",
       "      <td>516.45 &lt; perimeter_worst &lt;= 686.60</td>\n",
       "      <td>-0.008154</td>\n",
       "    </tr>\n",
       "    <tr>\n",
       "      <th>1</th>\n",
       "      <td>84.25 &lt; texture_worst &lt;= 97.67</td>\n",
       "      <td>-0.007095</td>\n",
       "    </tr>\n",
       "    <tr>\n",
       "      <th>2</th>\n",
       "      <td>75.10 &lt; texture_mean &lt;= 85.98</td>\n",
       "      <td>-0.003677</td>\n",
       "    </tr>\n",
       "    <tr>\n",
       "      <th>3</th>\n",
       "      <td>0.06 &lt; compactness_mean &lt;= 0.13</td>\n",
       "      <td>-0.003620</td>\n",
       "    </tr>\n",
       "    <tr>\n",
       "      <th>4</th>\n",
       "      <td>0.18 &lt; concave points_mean &lt;= 0.20</td>\n",
       "      <td>0.003230</td>\n",
       "    </tr>\n",
       "  </tbody>\n",
       "</table>\n",
       "</div>"
      ],
      "text/plain": [
       "                              Feature  Contribution\n",
       "0  516.45 < perimeter_worst <= 686.60     -0.008154\n",
       "1      84.25 < texture_worst <= 97.67     -0.007095\n",
       "2       75.10 < texture_mean <= 85.98     -0.003677\n",
       "3     0.06 < compactness_mean <= 0.13     -0.003620\n",
       "4  0.18 < concave points_mean <= 0.20      0.003230"
      ]
     },
     "execution_count": 14,
     "metadata": {},
     "output_type": "execute_result"
    }
   ],
   "source": [
    "pd.DataFrame(exp.as_list(),columns=['Feature','Contribution'])"
   ]
  },
  {
   "cell_type": "markdown",
   "metadata": {},
   "source": [
    "## Combining Explanations\n",
    "\n",
    "Let's look at the inferences that we made so far:\n",
    "\n",
    "1. The attributes selected by researchers to be included in the data have been determined to be relevant in diagnosing malignancy mammograms.\n",
    "2. Since \"worst\" is used to describe the largest cell nuclei in the observed sample, there is some relationship between malignancy and cell nuclei size.\n",
    "3. There are more observations that are malignant.\n",
    "4. The model is \"cautious\" in determining that an observation is __benign__. The model is more likely to mis-classify a negative result as positive. \n",
    "5. In our sample, the model is _mildly_ confident that this observation is malignant, because of the `fractal_dimension_mean`. However, because the observation has values for other features that are typically associated with benign, the confidence of the model is somewhat diminished.\n",
    "\n",
    "Based on the inferences, we might explain that:\n",
    "\n",
    "1. Since the researchers have indicated that \"worst\" pertains to \"largest\", we understand that having larger values in key fields contributes to a malignancy classification.\n",
    "\n",
    "2. The recall is 100%, which means that false positives are more likely than false negatives. However, that could be due to a class imbalance. \n",
    "\n",
    "3. However, we have observed that in a particular sample, that the `fractal_dimension_mean` was a strong contributor to a malignancy classification.\n",
    "\n",
    "Now that we have created a baseline model and examined the results to craft an explanation, our work is not yet done. Since we have a class imbalance and a recall of 100%, our next iteration might include applying preprocessing techniques to correct for the class imbalance. We might also choose to tune the hyper-parameters of neural network or LIME explainer to improve the model's performance and/or explanations.  "
   ]
  },
  {
   "cell_type": "markdown",
   "metadata": {},
   "source": [
    "## Summary\n",
    "\n",
    "In this lesson, we built a neural network to classify observations as \"malignant\" or \"benign\" with the Wisconsin Breast Cancer Dataset. We reviewed the metadata and learned which attributes the features represented, and how they were calculated. We also discussed what qualities of the data we should consider when selecting a model and tuning the parameters. \n",
    "\n",
    "While we only had time to cover the absolute basics implementing neural networks with Python and scikit-learn, the tools we explained should help you get started. If you are interested in learning more about neural networks, additional curriculum will be provided at the end of the course to help you expand your understanding. "
   ]
  }
 ],
 "metadata": {
  "kernelspec": {
   "display_name": "Python 3",
   "language": "python",
   "name": "python3"
  },
  "language_info": {
   "codemirror_mode": {
    "name": "ipython",
    "version": 3
   },
   "file_extension": ".py",
   "mimetype": "text/x-python",
   "name": "python",
   "nbconvert_exporter": "python",
   "pygments_lexer": "ipython3",
   "version": "3.8.5"
  }
 },
 "nbformat": 4,
 "nbformat_minor": 4
}
